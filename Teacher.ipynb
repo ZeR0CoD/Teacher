{
 "cells": [
  {
   "cell_type": "markdown",
   "metadata": {},
   "source": [
    "## Подготовка данных"
   ]
  },
  {
   "cell_type": "code",
   "execution_count": 4,
   "metadata": {},
   "outputs": [],
   "source": [
    "import pandas as pd\n",
    "\n",
    "from sklearn.utils import shuffle\n",
    "from sklearn.model_selection import train_test_split\n",
    "from sklearn.metrics import accuracy_score, f1_score, recall_score, precision_score, roc_auc_score, roc_curve, confusion_matrix\n",
    "\n",
    "\n",
    "from sklearn.linear_model import LogisticRegression\n",
    "from sklearn.ensemble import RandomForestClassifier\n",
    "from sklearn.preprocessing import StandardScaler\n",
    "from sklearn.tree import DecisionTreeClassifier\n",
    "from sklearn.dummy import DummyClassifier"
   ]
  },
  {
   "cell_type": "code",
   "execution_count": 5,
   "metadata": {},
   "outputs": [
    {
     "name": "stdout",
     "output_type": "stream",
     "text": [
      "<class 'pandas.core.frame.DataFrame'>\n",
      "RangeIndex: 10000 entries, 0 to 9999\n",
      "Data columns (total 14 columns):\n",
      " #   Column           Non-Null Count  Dtype  \n",
      "---  ------           --------------  -----  \n",
      " 0   RowNumber        10000 non-null  int64  \n",
      " 1   CustomerId       10000 non-null  int64  \n",
      " 2   Surname          10000 non-null  object \n",
      " 3   CreditScore      10000 non-null  int64  \n",
      " 4   Geography        10000 non-null  object \n",
      " 5   Gender           10000 non-null  object \n",
      " 6   Age              10000 non-null  int64  \n",
      " 7   Tenure           9091 non-null   float64\n",
      " 8   Balance          10000 non-null  float64\n",
      " 9   NumOfProducts    10000 non-null  int64  \n",
      " 10  HasCrCard        10000 non-null  int64  \n",
      " 11  IsActiveMember   10000 non-null  int64  \n",
      " 12  EstimatedSalary  10000 non-null  float64\n",
      " 13  Exited           10000 non-null  int64  \n",
      "dtypes: float64(3), int64(8), object(3)\n",
      "memory usage: 1.1+ MB\n"
     ]
    },
    {
     "data": {
      "text/plain": [
       "0"
      ]
     },
     "execution_count": 5,
     "metadata": {},
     "output_type": "execute_result"
    }
   ],
   "source": [
    "data = pd.read_csv(r'C:\\Users\\Данил\\Desktop\\Churn.csv')\n",
    "\n",
    "data.info()\n",
    "data.duplicated().sum()"
   ]
  },
  {
   "cell_type": "code",
   "execution_count": 13,
   "metadata": {},
   "outputs": [
    {
     "data": {
      "text/html": [
       "<div>\n",
       "<style scoped>\n",
       "    .dataframe tbody tr th:only-of-type {\n",
       "        vertical-align: middle;\n",
       "    }\n",
       "\n",
       "    .dataframe tbody tr th {\n",
       "        vertical-align: top;\n",
       "    }\n",
       "\n",
       "    .dataframe thead th {\n",
       "        text-align: right;\n",
       "    }\n",
       "</style>\n",
       "<table border=\"1\" class=\"dataframe\">\n",
       "  <thead>\n",
       "    <tr style=\"text-align: right;\">\n",
       "      <th></th>\n",
       "      <th>RowNumber</th>\n",
       "      <th>CustomerId</th>\n",
       "      <th>Surname</th>\n",
       "      <th>CreditScore</th>\n",
       "      <th>Geography</th>\n",
       "      <th>Gender</th>\n",
       "      <th>Age</th>\n",
       "      <th>Tenure</th>\n",
       "      <th>Balance</th>\n",
       "      <th>NumOfProducts</th>\n",
       "      <th>HasCrCard</th>\n",
       "      <th>IsActiveMember</th>\n",
       "      <th>EstimatedSalary</th>\n",
       "      <th>Exited</th>\n",
       "    </tr>\n",
       "  </thead>\n",
       "  <tbody>\n",
       "    <tr>\n",
       "      <th>0</th>\n",
       "      <td>1</td>\n",
       "      <td>15634602</td>\n",
       "      <td>Hargrave</td>\n",
       "      <td>619</td>\n",
       "      <td>France</td>\n",
       "      <td>Female</td>\n",
       "      <td>42</td>\n",
       "      <td>2.0</td>\n",
       "      <td>0.00</td>\n",
       "      <td>1</td>\n",
       "      <td>1</td>\n",
       "      <td>1</td>\n",
       "      <td>101348.88</td>\n",
       "      <td>1</td>\n",
       "    </tr>\n",
       "    <tr>\n",
       "      <th>1</th>\n",
       "      <td>2</td>\n",
       "      <td>15647311</td>\n",
       "      <td>Hill</td>\n",
       "      <td>608</td>\n",
       "      <td>Spain</td>\n",
       "      <td>Female</td>\n",
       "      <td>41</td>\n",
       "      <td>1.0</td>\n",
       "      <td>83807.86</td>\n",
       "      <td>1</td>\n",
       "      <td>0</td>\n",
       "      <td>1</td>\n",
       "      <td>112542.58</td>\n",
       "      <td>0</td>\n",
       "    </tr>\n",
       "    <tr>\n",
       "      <th>2</th>\n",
       "      <td>3</td>\n",
       "      <td>15619304</td>\n",
       "      <td>Onio</td>\n",
       "      <td>502</td>\n",
       "      <td>France</td>\n",
       "      <td>Female</td>\n",
       "      <td>42</td>\n",
       "      <td>8.0</td>\n",
       "      <td>159660.80</td>\n",
       "      <td>3</td>\n",
       "      <td>1</td>\n",
       "      <td>0</td>\n",
       "      <td>113931.57</td>\n",
       "      <td>1</td>\n",
       "    </tr>\n",
       "    <tr>\n",
       "      <th>3</th>\n",
       "      <td>4</td>\n",
       "      <td>15701354</td>\n",
       "      <td>Boni</td>\n",
       "      <td>699</td>\n",
       "      <td>France</td>\n",
       "      <td>Female</td>\n",
       "      <td>39</td>\n",
       "      <td>1.0</td>\n",
       "      <td>0.00</td>\n",
       "      <td>2</td>\n",
       "      <td>0</td>\n",
       "      <td>0</td>\n",
       "      <td>93826.63</td>\n",
       "      <td>0</td>\n",
       "    </tr>\n",
       "    <tr>\n",
       "      <th>4</th>\n",
       "      <td>5</td>\n",
       "      <td>15737888</td>\n",
       "      <td>Mitchell</td>\n",
       "      <td>850</td>\n",
       "      <td>Spain</td>\n",
       "      <td>Female</td>\n",
       "      <td>43</td>\n",
       "      <td>2.0</td>\n",
       "      <td>125510.82</td>\n",
       "      <td>1</td>\n",
       "      <td>1</td>\n",
       "      <td>1</td>\n",
       "      <td>79084.10</td>\n",
       "      <td>0</td>\n",
       "    </tr>\n",
       "  </tbody>\n",
       "</table>\n",
       "</div>"
      ],
      "text/plain": [
       "   RowNumber  CustomerId   Surname  CreditScore Geography  Gender  Age  \\\n",
       "0          1    15634602  Hargrave          619    France  Female   42   \n",
       "1          2    15647311      Hill          608     Spain  Female   41   \n",
       "2          3    15619304      Onio          502    France  Female   42   \n",
       "3          4    15701354      Boni          699    France  Female   39   \n",
       "4          5    15737888  Mitchell          850     Spain  Female   43   \n",
       "\n",
       "   Tenure    Balance  NumOfProducts  HasCrCard  IsActiveMember  \\\n",
       "0     2.0       0.00              1          1               1   \n",
       "1     1.0   83807.86              1          0               1   \n",
       "2     8.0  159660.80              3          1               0   \n",
       "3     1.0       0.00              2          0               0   \n",
       "4     2.0  125510.82              1          1               1   \n",
       "\n",
       "   EstimatedSalary  Exited  \n",
       "0        101348.88       1  \n",
       "1        112542.58       0  \n",
       "2        113931.57       1  \n",
       "3         93826.63       0  \n",
       "4         79084.10       0  "
      ]
     },
     "execution_count": 13,
     "metadata": {},
     "output_type": "execute_result"
    }
   ],
   "source": [
    "data.head()"
   ]
  },
  {
   "cell_type": "code",
   "execution_count": 14,
   "metadata": {},
   "outputs": [],
   "source": [
    "# заполненим минимальным значением\n",
    "data['Tenure'] = data['Tenure'].fillna(0)"
   ]
  },
  {
   "cell_type": "markdown",
   "metadata": {},
   "source": [
    "## Исследование задачи"
   ]
  },
  {
   "cell_type": "code",
   "execution_count": 15,
   "metadata": {},
   "outputs": [
    {
     "data": {
      "text/html": [
       "<div>\n",
       "<style scoped>\n",
       "    .dataframe tbody tr th:only-of-type {\n",
       "        vertical-align: middle;\n",
       "    }\n",
       "\n",
       "    .dataframe tbody tr th {\n",
       "        vertical-align: top;\n",
       "    }\n",
       "\n",
       "    .dataframe thead th {\n",
       "        text-align: right;\n",
       "    }\n",
       "</style>\n",
       "<table border=\"1\" class=\"dataframe\">\n",
       "  <thead>\n",
       "    <tr style=\"text-align: right;\">\n",
       "      <th></th>\n",
       "      <th>CreditScore</th>\n",
       "      <th>Geography</th>\n",
       "      <th>Gender</th>\n",
       "      <th>Age</th>\n",
       "      <th>Tenure</th>\n",
       "      <th>Balance</th>\n",
       "      <th>NumOfProducts</th>\n",
       "      <th>HasCrCard</th>\n",
       "      <th>IsActiveMember</th>\n",
       "      <th>EstimatedSalary</th>\n",
       "      <th>Exited</th>\n",
       "    </tr>\n",
       "  </thead>\n",
       "  <tbody>\n",
       "    <tr>\n",
       "      <th>0</th>\n",
       "      <td>619</td>\n",
       "      <td>France</td>\n",
       "      <td>Female</td>\n",
       "      <td>42</td>\n",
       "      <td>2.0</td>\n",
       "      <td>0.00</td>\n",
       "      <td>1</td>\n",
       "      <td>1</td>\n",
       "      <td>1</td>\n",
       "      <td>101348.88</td>\n",
       "      <td>1</td>\n",
       "    </tr>\n",
       "    <tr>\n",
       "      <th>1</th>\n",
       "      <td>608</td>\n",
       "      <td>Spain</td>\n",
       "      <td>Female</td>\n",
       "      <td>41</td>\n",
       "      <td>1.0</td>\n",
       "      <td>83807.86</td>\n",
       "      <td>1</td>\n",
       "      <td>0</td>\n",
       "      <td>1</td>\n",
       "      <td>112542.58</td>\n",
       "      <td>0</td>\n",
       "    </tr>\n",
       "    <tr>\n",
       "      <th>2</th>\n",
       "      <td>502</td>\n",
       "      <td>France</td>\n",
       "      <td>Female</td>\n",
       "      <td>42</td>\n",
       "      <td>8.0</td>\n",
       "      <td>159660.80</td>\n",
       "      <td>3</td>\n",
       "      <td>1</td>\n",
       "      <td>0</td>\n",
       "      <td>113931.57</td>\n",
       "      <td>1</td>\n",
       "    </tr>\n",
       "    <tr>\n",
       "      <th>3</th>\n",
       "      <td>699</td>\n",
       "      <td>France</td>\n",
       "      <td>Female</td>\n",
       "      <td>39</td>\n",
       "      <td>1.0</td>\n",
       "      <td>0.00</td>\n",
       "      <td>2</td>\n",
       "      <td>0</td>\n",
       "      <td>0</td>\n",
       "      <td>93826.63</td>\n",
       "      <td>0</td>\n",
       "    </tr>\n",
       "    <tr>\n",
       "      <th>4</th>\n",
       "      <td>850</td>\n",
       "      <td>Spain</td>\n",
       "      <td>Female</td>\n",
       "      <td>43</td>\n",
       "      <td>2.0</td>\n",
       "      <td>125510.82</td>\n",
       "      <td>1</td>\n",
       "      <td>1</td>\n",
       "      <td>1</td>\n",
       "      <td>79084.10</td>\n",
       "      <td>0</td>\n",
       "    </tr>\n",
       "  </tbody>\n",
       "</table>\n",
       "</div>"
      ],
      "text/plain": [
       "   CreditScore Geography  Gender  Age  Tenure    Balance  NumOfProducts  \\\n",
       "0          619    France  Female   42     2.0       0.00              1   \n",
       "1          608     Spain  Female   41     1.0   83807.86              1   \n",
       "2          502    France  Female   42     8.0  159660.80              3   \n",
       "3          699    France  Female   39     1.0       0.00              2   \n",
       "4          850     Spain  Female   43     2.0  125510.82              1   \n",
       "\n",
       "   HasCrCard  IsActiveMember  EstimatedSalary  Exited  \n",
       "0          1               1        101348.88       1  \n",
       "1          0               1        112542.58       0  \n",
       "2          1               0        113931.57       1  \n",
       "3          0               0         93826.63       0  \n",
       "4          1               1         79084.10       0  "
      ]
     },
     "execution_count": 15,
     "metadata": {},
     "output_type": "execute_result"
    }
   ],
   "source": [
    "#Удалим столбцы-идентификаторы, не представляющие ценности\n",
    "data_ohe = data.drop(['RowNumber','CustomerId', 'Surname'], axis=1)\n",
    "data_ohe.head()"
   ]
  },
  {
   "cell_type": "code",
   "execution_count": 6,
   "metadata": {},
   "outputs": [],
   "source": [
    "#Разделим на признаки и целевой признак\n",
    "features = data_ohe.drop('Exited', axis=1)\n",
    "target = data_ohe['Exited']\n",
    "\n",
    "features_test = data_ohe.drop('Exited', axis=1)\n",
    "target_test = data_ohe['Exited']"
   ]
  },
  {
   "cell_type": "code",
   "execution_count": 7,
   "metadata": {},
   "outputs": [],
   "source": [
    "data_train, data_test = train_test_split(data, test_size=0.2, random_state=12345)"
   ]
  },
  {
   "cell_type": "code",
   "execution_count": 8,
   "metadata": {},
   "outputs": [],
   "source": [
    "features_train, features_valid, target_train, target_valid = train_test_split(features, target, test_size=0.25, random_state=12345)"
   ]
  },
  {
   "cell_type": "code",
   "execution_count": 9,
   "metadata": {},
   "outputs": [],
   "source": [
    "features_train = pd.get_dummies(features_train, drop_first=True)\n",
    "features_valid = pd.get_dummies(features_valid, drop_first=True)\n",
    "features_test = pd.get_dummies(features_test, drop_first=True)"
   ]
  },
  {
   "cell_type": "code",
   "execution_count": 10,
   "metadata": {},
   "outputs": [
    {
     "data": {
      "text/plain": [
       "StandardScaler()"
      ]
     },
     "execution_count": 10,
     "metadata": {},
     "output_type": "execute_result"
    }
   ],
   "source": [
    "#Для масштабирования методом scaler зафиксируем численные признаки\n",
    "numeric = ['CreditScore', 'Age', 'Tenure', 'Balance', 'NumOfProducts', 'EstimatedSalary']\n",
    "scaler = StandardScaler()\n",
    "scaler.fit(features_train[numeric])"
   ]
  },
  {
   "cell_type": "code",
   "execution_count": 11,
   "metadata": {
    "scrolled": true
   },
   "outputs": [],
   "source": [
    "#Масштабируем числ признаки в выборках\n",
    "features_train[numeric] = scaler.transform(features_train[numeric])\n",
    "features_valid[numeric] = scaler.transform(features_valid[numeric])\n",
    "features_test[numeric] = scaler.transform(features_test[numeric])"
   ]
  },
  {
   "cell_type": "markdown",
   "metadata": {},
   "source": [
    "Исследование моделей машинного обучения"
   ]
  },
  {
   "cell_type": "code",
   "execution_count": 12,
   "metadata": {},
   "outputs": [
    {
     "name": "stdout",
     "output_type": "stream",
     "text": [
      "Качество: 0.7976\n"
     ]
    }
   ],
   "source": [
    "model = LogisticRegression()\n",
    "model.fit(features_train, target_train)\n",
    "accuracy = model.score(features_valid, target_valid)\n",
    "\n",
    "print('Качество:', accuracy)"
   ]
  },
  {
   "cell_type": "code",
   "execution_count": 13,
   "metadata": {},
   "outputs": [
    {
     "name": "stdout",
     "output_type": "stream",
     "text": [
      "Глубина дерева: 7 Количество деревьев: 20 Качество: 0.858\n"
     ]
    }
   ],
   "source": [
    "best_accuracy = 0\n",
    "best_depth = 0\n",
    "best_est = 0\n",
    "for est in range(10, 51, 10):\n",
    "    for depth in range (1, 11):\n",
    "        model = RandomForestClassifier(random_state=12345, max_depth=depth, n_estimators=est)\n",
    "        model.fit(features_train, target_train)\n",
    "        accuracy = model.score(features_valid, target_valid)\n",
    "        if accuracy > best_accuracy:\n",
    "            best_accuracy = accuracy\n",
    "            best_depth = depth\n",
    "            best_est = est\n",
    "            \n",
    "print('Глубина дерева:', best_depth, 'Количество деревьев:', best_est, 'Качество:', best_accuracy)"
   ]
  },
  {
   "cell_type": "code",
   "execution_count": 14,
   "metadata": {},
   "outputs": [
    {
     "name": "stdout",
     "output_type": "stream",
     "text": [
      "Глубина дерева: 6 Качество: 0.854\n"
     ]
    }
   ],
   "source": [
    "best_accuracy = 0\n",
    "best_depth = 0\n",
    "for depth in range(1, 15):\n",
    "    model = DecisionTreeClassifier(max_depth=depth, random_state=12345)\n",
    "    model.fit(features_train, target_train)\n",
    "    accuracy = model.score(features_valid, target_valid)\n",
    "    if accuracy > best_accuracy:\n",
    "        best_accuracy = accuracy\n",
    "        best_depth = depth\n",
    "print('Глубина дерева:', best_depth, 'Качество:', best_accuracy)"
   ]
  },
  {
   "cell_type": "markdown",
   "metadata": {},
   "source": [
    "Исследование баланса классов выборки"
   ]
  },
  {
   "cell_type": "code",
   "execution_count": 15,
   "metadata": {},
   "outputs": [
    {
     "data": {
      "text/plain": [
       "0    0.799733\n",
       "1    0.200267\n",
       "Name: Exited, dtype: float64"
      ]
     },
     "execution_count": 15,
     "metadata": {},
     "output_type": "execute_result"
    }
   ],
   "source": [
    "target_train.value_counts(normalize = 1)"
   ]
  },
  {
   "cell_type": "markdown",
   "metadata": {},
   "source": [
    "Как мы выяснили в нашей выборке отрицательны ответов ≈80% , положитительных ≈ 20%. С уверенностью можем сказать что имеется дисбаланс."
   ]
  },
  {
   "cell_type": "markdown",
   "metadata": {},
   "source": [
    "Проверим качество моделей до борьбы с дисбалансом"
   ]
  },
  {
   "cell_type": "code",
   "execution_count": 16,
   "metadata": {},
   "outputs": [],
   "source": [
    "#Заранее напишем функцию для изучия полноты, точности и F1-меры\n",
    "def rec_prec_f1(target_valid, prediction):\n",
    "    print(\"Полнота\" , recall_score(target_valid, prediction))\n",
    "    print(\"Точность\", precision_score(target_valid, prediction))\n",
    "    print(\"F1-мера\", f1_score(target_valid, prediction))"
   ]
  },
  {
   "cell_type": "code",
   "execution_count": 17,
   "metadata": {},
   "outputs": [
    {
     "name": "stdout",
     "output_type": "stream",
     "text": [
      "[[1920   45]\n",
      " [ 310  225]]\n",
      "Полнота 0.4205607476635514\n",
      "Точность 0.8333333333333334\n",
      "F1-мера 0.5590062111801242\n"
     ]
    },
    {
     "data": {
      "text/plain": [
       "0.8613626310908183"
      ]
     },
     "execution_count": 17,
     "metadata": {},
     "output_type": "execute_result"
    }
   ],
   "source": [
    "model_RFC = RandomForestClassifier(random_state=12345, n_estimators = 20, max_depth= 7)\n",
    "model_RFC.fit(features_train, target_train)\n",
    "RFC_prediction = model_RFC.predict(features_valid)\n",
    "print(confusion_matrix(target_valid, RFC_prediction))\n",
    "\n",
    "rec_prec_f1(target_valid, RFC_prediction)\n",
    "\n",
    "RFC_probabilities_one_valid = model_RFC.predict_proba(features_valid)[:, 1]\n",
    "auc_roc_RFC = roc_auc_score(target_valid, RFC_probabilities_one_valid)\n",
    "auc_roc_RFC"
   ]
  },
  {
   "cell_type": "markdown",
   "metadata": {},
   "source": [
    "Случайный лес примерно равную пропорцию позитивных и негативных предсказаний, выдает заметно больше качественных предсказаний, но также сильно склоняется к ложно позитивным предсказаниям (FP). Точность и качество также низкое."
   ]
  },
  {
   "cell_type": "code",
   "execution_count": 18,
   "metadata": {},
   "outputs": [
    {
     "name": "stdout",
     "output_type": "stream",
     "text": [
      "[[1917   48]\n",
      " [ 317  218]]\n",
      "Полнота 0.4074766355140187\n",
      "Точность 0.8195488721804511\n",
      "F1-мера 0.5443196004993758\n"
     ]
    },
    {
     "data": {
      "text/plain": [
       "0.8463808232860098"
      ]
     },
     "execution_count": 18,
     "metadata": {},
     "output_type": "execute_result"
    }
   ],
   "source": [
    "model_DTC = DecisionTreeClassifier(random_state=12345, max_depth = 6)\n",
    "model_DTC.fit(features_train, target_train)\n",
    "DTC_prediction = model_DTC.predict(features_valid)\n",
    "print(confusion_matrix(target_valid, DTC_prediction))\n",
    "\n",
    "rec_prec_f1(target_valid, DTC_prediction)\n",
    "\n",
    "DTC_probabilities_one_valid = model_DTC.predict_proba(features_valid)[:, 1]\n",
    "auc_roc_DTC = roc_auc_score(target_valid, DTC_probabilities_one_valid)\n",
    "auc_roc_DTC"
   ]
  },
  {
   "cell_type": "markdown",
   "metadata": {},
   "source": [
    "Матрица показала, что дерево решений склонно выдавать позитивные предсказания, очень высокое количество ложных позитивных предсказания (FP).\n",
    "\n",
    "Видим низкое значение F1, следовательно низкое качество модели, проблема в точности."
   ]
  },
  {
   "cell_type": "code",
   "execution_count": 19,
   "metadata": {},
   "outputs": [
    {
     "name": "stdout",
     "output_type": "stream",
     "text": [
      "[[1889   76]\n",
      " [ 430  105]]\n",
      "Полнота 0.19626168224299065\n",
      "Точность 0.580110497237569\n",
      "F1-мера 0.2932960893854748\n"
     ]
    },
    {
     "data": {
      "text/plain": [
       "0.758615015100711"
      ]
     },
     "execution_count": 19,
     "metadata": {},
     "output_type": "execute_result"
    }
   ],
   "source": [
    "model_LgR = LogisticRegression()\n",
    "model_LgR.fit(features_train, target_train)\n",
    "LgR_prediction = model_LgR.predict(features_valid)\n",
    "print(confusion_matrix(target_valid, LgR_prediction))\n",
    "\n",
    "rec_prec_f1(target_valid, LgR_prediction)\n",
    "\n",
    "LgR_probabilities_one_valid = model_LgR.predict_proba(features_valid)[:, 1]\n",
    "auc_roc_LgR = roc_auc_score(target_valid, LgR_probabilities_one_valid)\n",
    "auc_roc_LgR"
   ]
  },
  {
   "cell_type": "markdown",
   "metadata": {},
   "source": [
    "## Борьба с дисбалансом"
   ]
  },
  {
   "cell_type": "code",
   "execution_count": 20,
   "metadata": {},
   "outputs": [],
   "source": [
    "#Создадим функцию для увеличения представленного класса в выборке \n",
    "def upsample(features, target, repeat, upsampled_сlass):\n",
    "    features_zeros = features[target == 0]\n",
    "    features_ones = features[target == 1]\n",
    "    target_zeros = target[target == 0]\n",
    "    target_ones = target[target == 1]\n",
    "    \n",
    "    if upsampled_сlass == 0:\n",
    "        features_upsampled = pd.concat([features_zeros]* repeat + [features_ones] )\n",
    "        target_upsampled = pd.concat([target_zeros]* repeat + [target_ones] )\n",
    "        features_upsampled, target_upsampled = shuffle(\n",
    "        features_upsampled, target_upsampled, random_state=12345)\n",
    "        \n",
    "    elif upsampled_сlass == 1:\n",
    "        features_upsampled = pd.concat([features_zeros] + [features_ones] * repeat)\n",
    "        target_upsampled = pd.concat([target_zeros] + [target_ones] * repeat)\n",
    "        features_upsampled, target_upsampled = shuffle(\n",
    "        features_upsampled, target_upsampled, random_state=12345)\n",
    "    \n",
    "    else:\n",
    "        features_upsampled = 0\n",
    "        target_upsampled = 0  \n",
    "         \n",
    "    return features_upsampled, target_upsampled"
   ]
  },
  {
   "cell_type": "code",
   "execution_count": 21,
   "metadata": {},
   "outputs": [],
   "source": [
    "#Создадим функцию для уменьшения представленной класса в выборке \n",
    "def downsample(features, target, fraction):\n",
    "    features_zeros = features[target == 0]\n",
    "    features_ones = features[target == 1]\n",
    "    target_zeros = target[target == 0]\n",
    "    target_ones = target[target == 1]\n",
    "\n",
    "    features_downsampled = pd.concat(\n",
    "        [features_zeros.sample(frac=fraction, random_state=12345)] + [features_ones])\n",
    "    target_downsampled = pd.concat(\n",
    "        [target_zeros.sample(frac=fraction, random_state=12345)] + [target_ones])\n",
    "    \n",
    "    features_downsampled, target_downsampled = shuffle(\n",
    "        features_downsampled, target_downsampled, random_state=12345)\n",
    "    \n",
    "    return features_downsampled, target_downsampled"
   ]
  },
  {
   "cell_type": "code",
   "execution_count": 22,
   "metadata": {},
   "outputs": [
    {
     "name": "stdout",
     "output_type": "stream",
     "text": [
      "1    0.500416\n",
      "0    0.499584\n",
      "Name: Exited, dtype: float64\n",
      "(12006,)\n"
     ]
    }
   ],
   "source": [
    "#Применим функцию upsample \n",
    "#увеличим количество положительных ответов в 4 раза\n",
    "features_train_upsampled, target_train_upsampled = upsample(features_train, target_train, 4, 1)\n",
    "print(target_train_upsampled.value_counts(normalize = 1))\n",
    "print(target_train_upsampled.shape)"
   ]
  },
  {
   "cell_type": "code",
   "execution_count": 23,
   "metadata": {},
   "outputs": [
    {
     "name": "stdout",
     "output_type": "stream",
     "text": [
      "1    1502\n",
      "0    1200\n",
      "Name: Exited, dtype: int64\n",
      "(2702,)\n"
     ]
    }
   ],
   "source": [
    "#Применим функцию downsample\n",
    "#Уменьшим кол-в пооложительных ответов в 4 раза\n",
    "#Протестируем функцию (верное значение)\n",
    "features_downsampled_train, target_downsampled_train = downsample(features_train, target_train, 0.2)\n",
    "print(target_downsampled_train.value_counts(normalize = 0))\n",
    "print(target_downsampled_train.shape)"
   ]
  },
  {
   "cell_type": "markdown",
   "metadata": {},
   "source": [
    "выигрышнее выглядит upsample с ним и будем работать"
   ]
  },
  {
   "cell_type": "markdown",
   "metadata": {},
   "source": [
    "Обучение моделей на сбалансированной выборке"
   ]
  },
  {
   "cell_type": "code",
   "execution_count": 24,
   "metadata": {},
   "outputs": [
    {
     "name": "stdout",
     "output_type": "stream",
     "text": [
      "Полнота 0.7401869158878505\n",
      "Точность 0.5462068965517242\n",
      "F1-мера 0.6285714285714287\n"
     ]
    },
    {
     "data": {
      "text/plain": [
       "0.859615704739483"
      ]
     },
     "execution_count": 24,
     "metadata": {},
     "output_type": "execute_result"
    }
   ],
   "source": [
    "model_RFC_upsampled = RandomForestClassifier(max_depth=7, n_estimators=20, random_state=12345)\n",
    "model_RFC_upsampled.fit(features_train_upsampled, target_train_upsampled)\n",
    "RFC_prediction_upsampled = model_RFC_upsampled.predict(features_valid)\n",
    "rec_prec_f1(target_valid, RFC_prediction_upsampled)\n",
    "\n",
    "RFC_upsampled_valid = model_RFC_upsampled.predict_proba(features_valid)[:, 1]\n",
    "auc_roc_RFC = roc_auc_score(target_valid, RFC_upsampled_valid)\n",
    "auc_roc_RFC"
   ]
  },
  {
   "cell_type": "code",
   "execution_count": 25,
   "metadata": {},
   "outputs": [
    {
     "name": "stdout",
     "output_type": "stream",
     "text": [
      "Полнота 0.7700934579439253\n",
      "Точность 0.4807467911318553\n",
      "F1-мера 0.5919540229885057\n"
     ]
    },
    {
     "data": {
      "text/plain": [
       "0.8420185013436066"
      ]
     },
     "execution_count": 25,
     "metadata": {},
     "output_type": "execute_result"
    }
   ],
   "source": [
    "model_DTC_upsampled = DecisionTreeClassifier(random_state=12345, max_depth = 6)\n",
    "model_DTC_upsampled.fit(features_train_upsampled, target_train_upsampled)\n",
    "DTC_prediction_upsampled = model_DTC_upsampled.predict(features_valid)\n",
    "rec_prec_f1(target_valid, DTC_prediction_upsampled)\n",
    "\n",
    "DTC_upsampled_valid = model_DTC_upsampled.predict_proba(features_valid)[:, 1]\n",
    "auc_roc_DTC = roc_auc_score(target_valid, DTC_upsampled_valid)\n",
    "auc_roc_DTC"
   ]
  },
  {
   "cell_type": "code",
   "execution_count": 26,
   "metadata": {},
   "outputs": [
    {
     "name": "stdout",
     "output_type": "stream",
     "text": [
      "Полнота 0.7046728971962617\n",
      "Точность 0.3964248159831756\n",
      "F1-мера 0.5074024226110363\n"
     ]
    },
    {
     "data": {
      "text/plain": [
       "0.7634596085705452"
      ]
     },
     "execution_count": 26,
     "metadata": {},
     "output_type": "execute_result"
    }
   ],
   "source": [
    "model_LgR_upsampled = LogisticRegression()\n",
    "model_LgR_upsampled.fit(features_train_upsampled, target_train_upsampled)\n",
    "LgR_prediction_upsampled = model_LgR_upsampled.predict(features_valid)\n",
    "rec_prec_f1(target_valid, LgR_prediction_upsampled)\n",
    "\n",
    "LgR_upsampled_valid = model_LgR_upsampled.predict_proba(features_valid)[:, 1]\n",
    "auc_roc_LgR = roc_auc_score(target_valid, LgR_upsampled_valid)\n",
    "auc_roc_LgR"
   ]
  },
  {
   "cell_type": "markdown",
   "metadata": {},
   "source": [
    "Вывод\n",
    "\n",
    "Показаели всех моделей улучшились.\n",
    "\n",
    "Лучшие результаты показывает алгоритм случайный лес (RandomForestClassifier). На валидационной выборке RandomForestClassifier уже показывает резульаты F1 меры = 0.63, что выше целевого целевого значения."
   ]
  },
  {
   "cell_type": "markdown",
   "metadata": {},
   "source": [
    "## Тестирование модели"
   ]
  },
  {
   "cell_type": "code",
   "execution_count": 27,
   "metadata": {},
   "outputs": [
    {
     "name": "stdout",
     "output_type": "stream",
     "text": [
      "Полнота 0.7707412862052038\n",
      "Точность 0.5553590378493102\n",
      "F1-мера 0.6455592105263157\n"
     ]
    },
    {
     "data": {
      "text/plain": [
       "0.8890239226821695"
      ]
     },
     "execution_count": 27,
     "metadata": {},
     "output_type": "execute_result"
    }
   ],
   "source": [
    "model_RFC_final = RandomForestClassifier(\n",
    "    bootstrap = True, class_weight = 'balanced', max_depth= 7,  n_estimators = 43, random_state=12345)\n",
    "model_RFC_final.fit(features_train_upsampled, target_train_upsampled)\n",
    "model_RFC_final_prediction = model_RFC_final.predict(features_test)\n",
    "\n",
    "rec_prec_f1(target_test, model_RFC_final_prediction)\n",
    "\n",
    "model_RFC_final_valid = model_RFC_final.predict_proba(features_test)[:, 1]\n",
    "auc_roc_RFC = roc_auc_score(target_test, model_RFC_final_valid)\n",
    "auc_roc_RFC"
   ]
  },
  {
   "cell_type": "markdown",
   "metadata": {},
   "source": [
    "Выводы\n",
    "В первоначальные данных наблюдался значительный дисбаланс (80% ответов целевого признака были негативными и только 20% позитивными), из-за чего обученная на этих данных модель не проходила проверку на адекватность. Все модели не первоначальных данных характеризовались высокой степенью ошибок и низким качеством взвешенной величины (F1) — модели показывали низкие результаты точности и полноты.\n",
    "\n",
    "Мы устранили дисбаланс классов в обучающей выборки методом upsampling — увеличили количество значений позитивного класса в 4 раза. Так мы достигли баланса классо в обучеющей выборки: 0 - 0.499584 1 - 0.500416\n",
    "\n",
    "Разобрали несколько вариантов борьбы с дисбалансом upsampling и downsampling\n",
    "\n",
    "На новых данных все модели показали результат выше, чем на несбалансированной выборке. Лучшие показатели были у модели случайного леса:\n",
    "\n",
    "Полнота 0.7401869158878505\n",
    "Точность 0.5462068965517242\n",
    "F1-мера 0.6285714285714287\n",
    "AUC-ROC 0.859615704739483\n",
    "Финальная модель прошла проверку на адекватность и ее значения:\n",
    "\n",
    "Полнота 0.7707412862052038\n",
    "Точность 0.5553590378493102\n",
    "F1-мера 0.6455592105263157\n",
    "AUC-ROC 0.8890239226821695"
   ]
  }
 ],
 "metadata": {
  "ExecuteTimeLog": [
   {
    "duration": 1082,
    "start_time": "2023-02-24T15:35:24.656Z"
   },
   {
    "duration": 267,
    "start_time": "2023-02-24T15:35:26.440Z"
   },
   {
    "duration": 71,
    "start_time": "2023-02-24T15:35:41.702Z"
   },
   {
    "duration": 17,
    "start_time": "2023-02-24T15:36:09.534Z"
   },
   {
    "duration": 4,
    "start_time": "2023-02-24T15:37:37.516Z"
   },
   {
    "duration": 217,
    "start_time": "2023-02-24T15:39:07.390Z"
   },
   {
    "duration": 16,
    "start_time": "2023-02-24T15:40:50.423Z"
   },
   {
    "duration": 236,
    "start_time": "2023-02-24T15:40:54.890Z"
   },
   {
    "duration": 4,
    "start_time": "2023-02-24T15:41:34.838Z"
   },
   {
    "duration": 64,
    "start_time": "2023-02-24T15:41:35.135Z"
   },
   {
    "duration": 13,
    "start_time": "2023-02-24T15:41:35.572Z"
   },
   {
    "duration": 4,
    "start_time": "2023-02-24T15:41:36.164Z"
   },
   {
    "duration": 15,
    "start_time": "2023-02-24T15:41:37.364Z"
   },
   {
    "duration": 224,
    "start_time": "2023-02-24T15:41:37.991Z"
   },
   {
    "duration": 87,
    "start_time": "2023-02-24T15:42:00.458Z"
   },
   {
    "duration": 5,
    "start_time": "2023-02-24T15:42:18.461Z"
   },
   {
    "duration": 64,
    "start_time": "2023-02-24T15:42:18.620Z"
   },
   {
    "duration": 17,
    "start_time": "2023-02-24T15:42:18.797Z"
   },
   {
    "duration": 4,
    "start_time": "2023-02-24T15:42:18.997Z"
   },
   {
    "duration": 14,
    "start_time": "2023-02-24T15:42:19.559Z"
   },
   {
    "duration": 19,
    "start_time": "2023-02-24T15:42:19.912Z"
   },
   {
    "duration": 6,
    "start_time": "2023-02-24T15:46:55.018Z"
   },
   {
    "duration": 6,
    "start_time": "2023-02-24T15:46:55.819Z"
   },
   {
    "duration": 6,
    "start_time": "2023-02-24T15:46:56.427Z"
   },
   {
    "duration": 10,
    "start_time": "2023-02-24T15:49:52.943Z"
   },
   {
    "duration": 39,
    "start_time": "2023-02-24T15:50:00.454Z"
   },
   {
    "duration": 27,
    "start_time": "2023-02-24T15:51:02.669Z"
   },
   {
    "duration": 6,
    "start_time": "2023-02-24T15:51:47.884Z"
   },
   {
    "duration": 7,
    "start_time": "2023-02-24T15:51:48.144Z"
   },
   {
    "duration": 8,
    "start_time": "2023-02-24T15:51:48.466Z"
   },
   {
    "duration": 8,
    "start_time": "2023-02-24T15:51:48.877Z"
   },
   {
    "duration": 28,
    "start_time": "2023-02-24T15:51:49.563Z"
   },
   {
    "duration": 328,
    "start_time": "2023-02-24T15:54:25.710Z"
   },
   {
    "duration": 7275,
    "start_time": "2023-02-24T15:54:27.517Z"
   },
   {
    "duration": 321,
    "start_time": "2023-02-24T15:54:40.665Z"
   },
   {
    "duration": 7,
    "start_time": "2023-02-24T16:06:17.013Z"
   },
   {
    "duration": 4,
    "start_time": "2023-02-24T16:16:14.937Z"
   },
   {
    "duration": 900,
    "start_time": "2023-02-24T16:17:12.401Z"
   },
   {
    "duration": 928,
    "start_time": "2023-02-24T16:17:19.247Z"
   },
   {
    "duration": 951,
    "start_time": "2023-02-24T16:17:58.317Z"
   },
   {
    "duration": 59,
    "start_time": "2023-02-24T16:18:34.837Z"
   },
   {
    "duration": 53,
    "start_time": "2023-02-24T16:18:39.097Z"
   },
   {
    "duration": 123,
    "start_time": "2023-02-24T16:21:35.316Z"
   },
   {
    "duration": 11,
    "start_time": "2023-02-24T16:21:46.622Z"
   },
   {
    "duration": 145,
    "start_time": "2023-02-24T16:22:01.371Z"
   },
   {
    "duration": 43,
    "start_time": "2023-02-24T16:22:10.961Z"
   },
   {
    "duration": 5,
    "start_time": "2023-02-24T16:24:39.155Z"
   },
   {
    "duration": 4,
    "start_time": "2023-02-24T16:25:13.484Z"
   },
   {
    "duration": 9,
    "start_time": "2023-02-24T16:25:38.697Z"
   },
   {
    "duration": 12,
    "start_time": "2023-02-24T16:28:54.421Z"
   },
   {
    "duration": 12,
    "start_time": "2023-02-24T16:29:10.662Z"
   },
   {
    "duration": 352,
    "start_time": "2023-02-24T16:31:52.367Z"
   },
   {
    "duration": 171,
    "start_time": "2023-02-24T16:32:48.981Z"
   },
   {
    "duration": 35,
    "start_time": "2023-02-24T16:32:50.118Z"
   },
   {
    "duration": 170,
    "start_time": "2023-02-24T16:33:33.275Z"
   },
   {
    "duration": 406,
    "start_time": "2023-02-24T16:35:36.418Z"
   },
   {
    "duration": 4,
    "start_time": "2023-02-24T16:37:35.185Z"
   },
   {
    "duration": 15,
    "start_time": "2023-02-24T16:37:36.029Z"
   },
   {
    "duration": 5,
    "start_time": "2023-02-24T16:38:39.028Z"
   },
   {
    "duration": 19,
    "start_time": "2023-02-24T16:38:39.378Z"
   },
   {
    "duration": 4,
    "start_time": "2023-02-24T16:39:28.780Z"
   },
   {
    "duration": 12,
    "start_time": "2023-02-24T16:39:29.384Z"
   },
   {
    "duration": 8,
    "start_time": "2023-02-24T16:41:56.986Z"
   },
   {
    "duration": 1238,
    "start_time": "2023-02-24T16:46:25.882Z"
   },
   {
    "duration": 79,
    "start_time": "2023-02-24T16:46:27.122Z"
   },
   {
    "duration": 23,
    "start_time": "2023-02-24T16:46:27.204Z"
   },
   {
    "duration": 6,
    "start_time": "2023-02-24T16:46:27.231Z"
   },
   {
    "duration": 32,
    "start_time": "2023-02-24T16:46:27.239Z"
   },
   {
    "duration": 33,
    "start_time": "2023-02-24T16:46:27.274Z"
   },
   {
    "duration": 12,
    "start_time": "2023-02-24T16:46:27.309Z"
   },
   {
    "duration": 17,
    "start_time": "2023-02-24T16:46:27.323Z"
   },
   {
    "duration": 20,
    "start_time": "2023-02-24T16:46:27.343Z"
   },
   {
    "duration": 19,
    "start_time": "2023-02-24T16:46:27.368Z"
   },
   {
    "duration": 62,
    "start_time": "2023-02-24T16:46:27.390Z"
   },
   {
    "duration": 689,
    "start_time": "2023-02-24T16:46:27.454Z"
   },
   {
    "duration": 7940,
    "start_time": "2023-02-24T16:46:28.149Z"
   },
   {
    "duration": 359,
    "start_time": "2023-02-24T16:46:36.091Z"
   },
   {
    "duration": 9,
    "start_time": "2023-02-24T16:46:36.451Z"
   },
   {
    "duration": 15,
    "start_time": "2023-02-24T16:46:36.462Z"
   },
   {
    "duration": 151,
    "start_time": "2023-02-24T16:46:36.479Z"
   },
   {
    "duration": 49,
    "start_time": "2023-02-24T16:46:36.637Z"
   },
   {
    "duration": 250,
    "start_time": "2023-02-24T16:46:36.688Z"
   },
   {
    "duration": 6,
    "start_time": "2023-02-24T16:46:36.941Z"
   },
   {
    "duration": 123,
    "start_time": "2023-02-24T16:46:36.953Z"
   },
   {
    "duration": 46,
    "start_time": "2023-02-24T16:46:37.078Z"
   },
   {
    "duration": 51,
    "start_time": "2023-02-24T16:46:37.126Z"
   },
   {
    "duration": 215,
    "start_time": "2023-02-24T16:46:37.180Z"
   },
   {
    "duration": 68,
    "start_time": "2023-02-24T16:46:37.397Z"
   },
   {
    "duration": 571,
    "start_time": "2023-02-24T16:46:37.467Z"
   },
   {
    "duration": 604,
    "start_time": "2023-02-24T16:46:38.042Z"
   },
   {
    "duration": 1242,
    "start_time": "2023-02-28T13:53:17.923Z"
   },
   {
    "duration": 439,
    "start_time": "2023-02-28T13:53:19.167Z"
   },
   {
    "duration": 16,
    "start_time": "2023-02-28T13:53:19.608Z"
   },
   {
    "duration": 3,
    "start_time": "2023-02-28T13:53:19.625Z"
   },
   {
    "duration": 14,
    "start_time": "2023-02-28T13:53:19.630Z"
   },
   {
    "duration": 7,
    "start_time": "2023-02-28T13:53:19.646Z"
   },
   {
    "duration": 8,
    "start_time": "2023-02-28T13:53:19.654Z"
   },
   {
    "duration": 35,
    "start_time": "2023-02-28T13:53:19.664Z"
   },
   {
    "duration": 23,
    "start_time": "2023-02-28T13:53:19.702Z"
   },
   {
    "duration": 19,
    "start_time": "2023-02-28T13:53:19.727Z"
   },
   {
    "duration": 31,
    "start_time": "2023-02-28T13:53:19.749Z"
   },
   {
    "duration": 428,
    "start_time": "2023-02-28T13:53:19.782Z"
   },
   {
    "duration": 7795,
    "start_time": "2023-02-28T13:53:20.215Z"
   },
   {
    "duration": 327,
    "start_time": "2023-02-28T13:53:28.011Z"
   },
   {
    "duration": 8,
    "start_time": "2023-02-28T13:53:28.339Z"
   },
   {
    "duration": 3,
    "start_time": "2023-02-28T13:53:28.348Z"
   },
   {
    "duration": 164,
    "start_time": "2023-02-28T13:53:28.352Z"
   },
   {
    "duration": 37,
    "start_time": "2023-02-28T13:53:28.518Z"
   },
   {
    "duration": 557,
    "start_time": "2023-02-28T13:53:28.556Z"
   },
   {
    "duration": 14,
    "start_time": "2023-02-28T13:53:29.198Z"
   },
   {
    "duration": 26,
    "start_time": "2023-02-28T13:53:29.295Z"
   },
   {
    "duration": 23,
    "start_time": "2023-02-28T13:53:29.323Z"
   },
   {
    "duration": 14,
    "start_time": "2023-02-28T13:53:29.347Z"
   },
   {
    "duration": 183,
    "start_time": "2023-02-28T13:53:29.363Z"
   },
   {
    "duration": 57,
    "start_time": "2023-02-28T13:53:29.548Z"
   },
   {
    "duration": 599,
    "start_time": "2023-02-28T13:53:29.607Z"
   },
   {
    "duration": 601,
    "start_time": "2023-02-28T13:53:30.215Z"
   }
  ],
  "kernelspec": {
   "display_name": "Python 3 (ipykernel)",
   "language": "python",
   "name": "python3"
  },
  "language_info": {
   "codemirror_mode": {
    "name": "ipython",
    "version": 3
   },
   "file_extension": ".py",
   "mimetype": "text/x-python",
   "name": "python",
   "nbconvert_exporter": "python",
   "pygments_lexer": "ipython3",
   "version": "3.10.9"
  },
  "toc": {
   "base_numbering": 1,
   "nav_menu": {},
   "number_sections": true,
   "sideBar": true,
   "skip_h1_title": true,
   "title_cell": "Содержание",
   "title_sidebar": "Contents",
   "toc_cell": true,
   "toc_position": {
    "height": "calc(100% - 180px)",
    "left": "10px",
    "top": "150px",
    "width": "165px"
   },
   "toc_section_display": true,
   "toc_window_display": true
  }
 },
 "nbformat": 4,
 "nbformat_minor": 2
}
